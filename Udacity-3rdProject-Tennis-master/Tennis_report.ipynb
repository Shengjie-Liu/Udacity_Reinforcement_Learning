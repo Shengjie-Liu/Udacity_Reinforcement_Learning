{
 "cells": [
  {
   "cell_type": "markdown",
   "metadata": {},
   "source": [
    "# Report for Tennis Project"
   ]
  },
  {
   "cell_type": "markdown",
   "metadata": {},
   "source": [
    "Author: Shengjie Liu"
   ]
  },
  {
   "cell_type": "markdown",
   "metadata": {},
   "source": [
    "#### Introduction"
   ]
  },
  {
   "cell_type": "markdown",
   "metadata": {},
   "source": [
    "For this project, we will work with the Tennis environment."
   ]
  },
  {
   "cell_type": "markdown",
   "metadata": {},
   "source": [
    "<img src=\"tennis.png\">"
   ]
  },
  {
   "cell_type": "markdown",
   "metadata": {},
   "source": [
    "In this environment, two agents control rackets to bounce a ball over a net. If an agent hits the ball over the net, it receives a reward of +0.1. If an agent lets a ball hit the ground or hits the ball out of bounds, it receives a reward of -0.01. Thus, the goal of each agent is to keep the ball in play.\n",
    "\n",
    "The observation space consists of 8 variables corresponding to the position and velocity of the ball and racket. Each agent receives its own, local observation. Two continuous actions are available, corresponding to movement toward (or away from) the net, and jumping.\n",
    "\n",
    "The task is episodic, and in order to solve the environment, your agents must get an average score of +0.5 (over 100 consecutive episodes, after taking the maximum over both agents). Specifically,\n",
    "\n",
    "    1.After each episode, we add up the rewards that each agent received (without discounting), to get a score for each agent. This yields 2 (potentially different) scores. We then take the maximum of these 2 scores\n",
    "\n",
    "    2.This yields a single score for each episode.\n",
    "\n",
    "The environment is considered solved, when the average (over 100 episodes) of those scores is at least +0.5."
   ]
  },
  {
   "cell_type": "markdown",
   "metadata": {},
   "source": [
    "#### Implementation"
   ]
  },
  {
   "cell_type": "markdown",
   "metadata": {},
   "source": [
    "DDPG algorithm uses four neural networks which include critic network, target critic network, deterministic policy network and target policy network. The critic network here is a function approximator for the q value function which has state and action as the input; the deterministic policy network here is a function approximator for the policy function which has state as the input; their target networks have same network architectures but their parameters will be updated by using soft-update.  \n",
    "\n",
    "For our problem, actor has the follwing architecture: $${fc}_1: Linear(state size, 256)$$ $${fc}_2: Linear(256, 128)$$ $${fc}_3: Linear(128, action size)$$ and we will use relu function as our activation function for the fully-collected layers and tanh function for the output layer since our action belongs to $[-1,1]$; critic has the following architecture: $${fc}_1: Linear(state size + action size, 256)$$ $${fc}_2: Linear(256, 128)$$ $${fc}_3: Linear(128, 1)$$ and we will use relu function as activation function for the fully connected layers and no activation for output layers since the action values belong to real number. Besides, in order to have a better convergence, we also add batch normalization layer after each linear layer. \n",
    "\n",
    "We will also use replaybuffer to store experienced tuple and sample from it since it can decorrelate the experenced tuple to stablize the trainining. For each episode, we use local actor network to decide our action based on the current state and add a normal noise to it for action exploration, after we observe reward and next state we store them in the replaybuffer and then sample some tuples to do learning for parameter updating.  \n",
    "\n",
    "Note this is a off-policy learning, for the critic network, we will use one-step bootstrapping estimate ($r_i + \\gamma Q_{\\text{target}}(s_{i+1}, \\mu^{'}(s_{i+1}, ))$) as our TD target with MSE loss to update the parameters for the critic network; for the policy network, we will directly approximately maximize the expected action value by using sampled policy gradient, which is $$\\triangledown_{\\theta_\\mu}J \\approx \\frac{1}{N}\\sum_{i}\\triangledown_{a}Q(s, a)|_{s = s_i, a = \\mu(s_i)}\\triangledown_{\\theta_\\mu}\\mu(s)|s_i$$  \n",
    "\n",
    "Then, we will update the target network by using soft update.  \n",
    "\n",
    "Under two-agent condition, every agent will use its own observation and other's observation as the input to have a better understanding of the environment."
   ]
  },
  {
   "cell_type": "markdown",
   "metadata": {},
   "source": [
    "#### Hyperparameter Setting"
   ]
  },
  {
   "cell_type": "markdown",
   "metadata": {},
   "source": [
    "`BUFFER_SIZE`: 10000 (max size for the replay buffer)  \n",
    "\n",
    "`BATCH_SIZE`: 128 (training batch size)\n",
    "\n",
    "`ALPHA`: 1e-2 (soft-update rate)  \n",
    "\n",
    "`GAMMA`: 0.99  (Discount factor)  \n",
    "\n",
    "`LR_actor`:  3e-3 (learning rate for actor network)  \n",
    "\n",
    "`LR_critic`: 3e-3 (learning rate for critic network)"
   ]
  },
  {
   "cell_type": "markdown",
   "metadata": {},
   "source": [
    "#### Result"
   ]
  },
  {
   "cell_type": "markdown",
   "metadata": {},
   "source": [
    "<img src=\"score.png\">"
   ]
  },
  {
   "cell_type": "markdown",
   "metadata": {},
   "source": [
    "From the above, we can see that our agent solves the environment in the 5297 episode. "
   ]
  },
  {
   "cell_type": "markdown",
   "metadata": {},
   "source": [
    "<img src=\"reward.png\">"
   ]
  },
  {
   "cell_type": "markdown",
   "metadata": {},
   "source": [
    "The above plot shows the average score against the episode number. "
   ]
  },
  {
   "cell_type": "markdown",
   "metadata": {},
   "source": [
    "#### Future work"
   ]
  },
  {
   "cell_type": "markdown",
   "metadata": {},
   "source": [
    "We will try to use better noise setting for the action exploration. Besides, we will try to use other algorithms such as \n",
    "PPO, TRPO, MADPGG, and etc. "
   ]
  },
  {
   "cell_type": "code",
   "execution_count": null,
   "metadata": {},
   "outputs": [],
   "source": []
  }
 ],
 "metadata": {
  "kernelspec": {
   "display_name": "drlnd",
   "language": "python",
   "name": "drlnd"
  },
  "language_info": {
   "codemirror_mode": {
    "name": "ipython",
    "version": 3
   },
   "file_extension": ".py",
   "mimetype": "text/x-python",
   "name": "python",
   "nbconvert_exporter": "python",
   "pygments_lexer": "ipython3",
   "version": "3.6.10"
  }
 },
 "nbformat": 4,
 "nbformat_minor": 2
}
